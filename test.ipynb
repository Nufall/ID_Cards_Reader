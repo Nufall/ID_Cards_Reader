{
 "cells": [
  {
   "cell_type": "code",
   "execution_count": 6,
   "metadata": {},
   "outputs": [
    {
     "name": "stdout",
     "output_type": "stream",
     "text": [
      "WARNING:tensorflow:5 out of the last 5 calls to <function Model.make_predict_function.<locals>.predict_function at 0x000002A2449FF040> triggered tf.function retracing. Tracing is expensive and the excessive number of tracings could be due to (1) creating @tf.function repeatedly in a loop, (2) passing tensors with different shapes, (3) passing Python objects instead of tensors. For (1), please define your @tf.function outside of the loop. For (2), @tf.function has reduce_retracing=True option that can avoid unnecessary retracing. For (3), please refer to https://www.tensorflow.org/guide/function#controlling_retracing and https://www.tensorflow.org/api_docs/python/tf/function for  more details.\n",
      "1/1 [==============================] - 0s 66ms/step\n",
      "Prediction: Not Flipped\n"
     ]
    }
   ],
   "source": [
    "import tensorflow as tf\n",
    "from tensorflow.keras.preprocessing import image\n",
    "from tensorflow.keras.models import load_model\n",
    "import numpy as np\n",
    "import cv2\n",
    "\n",
    "# Replace 'model_path' with the path to your saved model\n",
    "model_path = 'flipped_detection_model.h5'\n",
    "\n",
    "# Load the trained model\n",
    "model = load_model(model_path)\n",
    "\n",
    "# Function to preprocess an input image for prediction\n",
    "def preprocess_image(img_path):\n",
    "    \n",
    "    img = cv2.imread(img_path)\n",
    "    img = img[:, :, :3]\n",
    "    img = cv2.resize(img, (100, 100))  # Resize the image to match the model's expected sizing\n",
    "    img = np.expand_dims(img, axis=0)  # Add an extra dimension to match the model's expected input shape\n",
    "    # img = img / 255.0  # Normalize pixel values to be between 0 and 1\n",
    "    return img\n",
    "\n",
    "# Replace 'image_path' with the path to the image you want to test\n",
    "image_path = 'image8_rotated_cropped.jpg'\n",
    "\n",
    "# Preprocess the input image\n",
    "input_image = preprocess_image(image_path)\n",
    "\n",
    "# Make a prediction\n",
    "prediction = model.predict(input_image)\n",
    "\n",
    "# Print the prediction result\n",
    "if prediction[0][0] >= 0.5:\n",
    "    print('Prediction: Flipped')\n",
    "else:\n",
    "    print('Prediction: Not Flipped')\n"
   ]
  },
  {
   "cell_type": "code",
   "execution_count": 1,
   "metadata": {},
   "outputs": [],
   "source": [
    "import tensorflow as tf\n",
    "from tensorflow.keras.preprocessing import image\n",
    "from tensorflow.keras.models import load_model\n",
    "import numpy as np\n",
    "import cv2\n",
    "\n",
    "def preprocess_image(image):\n",
    "        image_rgb = image[:, :, :3]\n",
    "        image_rgb = cv2.resize(image_rgb, (100, 100))  # Resize the image to match the model's expected sizing\n",
    "        image_rgb = np.expand_dims(image_rgb, axis=0)  # Add an extra dimension to match the model's expected input shape\n",
    "        \n",
    "        # img = img / 255.0  # Normalize pixel values to be between 0 and 1\n",
    "        return image_rgb\n",
    "def flip_check(image):\n",
    "# Replace 'model_path' with the path to your saved model\n",
    "    model_path = 'flipped_detection_model.h5'\n",
    "\n",
    "    # Load the trained model\n",
    "    model = load_model(model_path)\n",
    "\n",
    "    # Function to preprocess an input image for prediction\n",
    "\n",
    "\n",
    "    # Replace 'image_path' with the path to the image you want to test\n",
    "\n",
    "\n",
    "    # Preprocess the input image\n",
    "    input_image = preprocess_image(image)\n",
    "\n",
    "    # Make a prediction\n",
    "    prediction = model.predict(input_image)\n",
    "\n",
    "    # Print the prediction result\n",
    "    if prediction[0][0] >= 0.5:\n",
    "        print('Prediction: Flipped')\n",
    "    else:\n",
    "        print('Prediction: Not Flipped')\n"
   ]
  },
  {
   "cell_type": "code",
   "execution_count": 2,
   "metadata": {},
   "outputs": [
    {
     "name": "stdout",
     "output_type": "stream",
     "text": [
      "1/1 [==============================] - 2s 2s/step\n",
      "Prediction: Not Flipped\n"
     ]
    }
   ],
   "source": [
    "image = cv2.imread('image8_rotated_cropped.jpg')\n",
    "flip_check(image)"
   ]
  },
  {
   "cell_type": "markdown",
   "metadata": {},
   "source": []
  }
 ],
 "metadata": {
  "kernelspec": {
   "display_name": "Python 3.9.13 64-bit (windows store)",
   "language": "python",
   "name": "python3"
  },
  "language_info": {
   "codemirror_mode": {
    "name": "ipython",
    "version": 3
   },
   "file_extension": ".py",
   "mimetype": "text/x-python",
   "name": "python",
   "nbconvert_exporter": "python",
   "pygments_lexer": "ipython3",
   "version": "3.9.13"
  },
  "orig_nbformat": 4,
  "vscode": {
   "interpreter": {
    "hash": "8dd6c597a8792c9ccfb7150262fecf4787dd3bb8fdd1b3a793a20b754922f4d4"
   }
  }
 },
 "nbformat": 4,
 "nbformat_minor": 2
}
